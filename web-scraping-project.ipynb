{
 "cells": [
  {
   "cell_type": "markdown",
   "metadata": {},
   "source": [
    "# Scraping Popular TV Shows From `IMDB` Using Python \n",
    "\n",
    "![Banner-Image](https://i.imgur.com/GUwEsFh.png)\n",
    "\n",
    "IMDb is an online database of information related to films, television series, home videos, video games, and streaming content online – including cast, production crew and personal biographies, plot summaries, trivia, ratings, and fan and critical reviews. For example, this [link](https://www.imdb.com/chart/tvmeter/?ref_=nv_tvv_mptv) included the most popular Tv show on IMDB.\n",
    "\n",
    "The Page https://www.imdb.com/chart/tvmeter/?ref_=nv_tvv_mptv and https://www.imdb.com/chart/toptv/?ref_=nv_tvv_250 provides a list of the `most popular Tv shows` and `Top Rated TV Shows` on IMDB. In this project, we will retrive infromation from this pages using Web_Scraping: Web scraping is the process of collecting structured web data in an automated fashion. It's also known as web data extraction. We'll use the python libraries [Requests](https://pypi.org/project/requests/) and [Beautiful Soup](https://www.crummy.com/software/BeautifulSoup/bs4/doc/) to scrape data from this page.\n",
    "\n",
    "The outline of this assignment is listed below:\n",
    "\n",
    "1. Download the webpage using requests. \n",
    "2. Parse the HTML source code using beautiful soup \n",
    "3. Extract `Show_name`, `Released_Date` and `IMDB_Rating` from this page \n",
    "4. Compile extracted information using Python lists and dictionaries\n",
    "5. Extract and combine data from multiple pages\n",
    "6. Save the extracted information to a CSV file.\n",
    "\n",
    "The CSV file which will be created will have the following format:\n",
    "\n",
    "```\n",
    "Show_Name,Released_Date,Imdb_Rating\n",
    "The Last of Us,(2023),9.3\n",
    "Velma,(2023),1.3\n",
    "```"
   ]
  },
  {
   "cell_type": "markdown",
   "metadata": {},
   "source": [
    "You can execute the code using the \"Run on Binder\" button at the top of this page. You can make changes and save your own version of the notebook to [Jovian](https://www.jovian.com/) by executing the following cells:"
   ]
  },
  {
   "cell_type": "code",
   "execution_count": 1,
   "metadata": {},
   "outputs": [],
   "source": [
    "import jovian"
   ]
  },
  {
   "cell_type": "markdown",
   "metadata": {},
   "source": [
    "# Downloading Web Page Using requests\n"
   ]
  },
  {
   "cell_type": "code",
   "execution_count": 2,
   "metadata": {
    "scrolled": true
   },
   "outputs": [],
   "source": [
    "!pip install requests --upgrade --quiet"
   ]
  },
  {
   "cell_type": "code",
   "execution_count": 3,
   "metadata": {},
   "outputs": [],
   "source": [
    "import requests"
   ]
  },
  {
   "cell_type": "markdown",
   "metadata": {},
   "source": [
    "To download a page, we can use the get function from requests, which returns the response object.\n",
    "\n"
   ]
  },
  {
   "cell_type": "code",
   "execution_count": 4,
   "metadata": {},
   "outputs": [],
   "source": [
    "topic_url = 'https://www.imdb.com/chart/tvmeter/?ref_=nv_tvv_mptv'"
   ]
  },
  {
   "cell_type": "code",
   "execution_count": 5,
   "metadata": {},
   "outputs": [],
   "source": [
    "response = requests.get(topic_url)"
   ]
  },
  {
   "cell_type": "markdown",
   "metadata": {},
   "source": [
    "`requests.get` returns a response object containing the data from the webpage and some other information.\n",
    "\n",
    "The `.status_code` property can be used to check if the request was successful.A successful response will have an HTTPstatus code between 200 and 209."
   ]
  },
  {
   "cell_type": "code",
   "execution_count": 6,
   "metadata": {},
   "outputs": [
    {
     "data": {
      "text/plain": [
       "200"
      ]
     },
     "execution_count": 6,
     "metadata": {},
     "output_type": "execute_result"
    }
   ],
   "source": [
    "response.status_code"
   ]
  },
  {
   "cell_type": "code",
   "execution_count": 7,
   "metadata": {},
   "outputs": [
    {
     "data": {
      "text/plain": [
       "requests.models.Response"
      ]
     },
     "execution_count": 7,
     "metadata": {},
     "output_type": "execute_result"
    }
   ],
   "source": [
    "type(response)"
   ]
  },
  {
   "cell_type": "markdown",
   "metadata": {},
   "source": [
    "Let us check the number of characters in the webpage."
   ]
  },
  {
   "cell_type": "code",
   "execution_count": 8,
   "metadata": {},
   "outputs": [],
   "source": [
    "page_contents = response.text"
   ]
  },
  {
   "cell_type": "code",
   "execution_count": 9,
   "metadata": {},
   "outputs": [
    {
     "data": {
      "text/plain": [
       "356298"
      ]
     },
     "execution_count": 9,
     "metadata": {},
     "output_type": "execute_result"
    }
   ],
   "source": [
    "len(page_contents)"
   ]
  },
  {
   "cell_type": "markdown",
   "metadata": {},
   "source": [
    "The webpage contains over 36,000 characters. Here are the first 500 characters of the page:"
   ]
  },
  {
   "cell_type": "code",
   "execution_count": 10,
   "metadata": {
    "scrolled": false
   },
   "outputs": [
    {
     "data": {
      "text/plain": [
       "'\\n\\n\\n<!DOCTYPE html>\\n<html\\n    xmlns:og=\"http://ogp.me/ns#\"\\n    xmlns:fb=\"http://www.facebook.com/2008/fbml\">\\n    <head>\\n         \\n\\n        <meta charset=\"utf-8\">\\n\\n    \\n    \\n    \\n\\n    \\n    \\n    \\n\\n            <style>\\n                body#styleguide-v2 {\\n                    background: no-repeat fixed center top #000;\\n                }\\n            </style>\\n\\n\\n\\n        <script type=\"text/javascript\">var IMDbTimer={starttime: new Date().getTime(),pt:\\'java\\'};</script>\\n\\n<script>\\n    if (typeof uet == \\'fu'"
      ]
     },
     "execution_count": 10,
     "metadata": {},
     "output_type": "execute_result"
    }
   ],
   "source": [
    "page_contents[:500]"
   ]
  },
  {
   "cell_type": "markdown",
   "metadata": {},
   "source": [
    "The above code is the [HTML source code](https://en.wikipedia.org/wiki/HTML#:~:text=The%20HyperText%20Markup%20Language%20or,scripting%20languages%20such%20as%20JavaScript.) of the webpage. We can also save it to a file and view locally within Jupyter using \"File -> Open\"."
   ]
  },
  {
   "cell_type": "code",
   "execution_count": 11,
   "metadata": {},
   "outputs": [],
   "source": [
    "with open(\"most_popular_tv_shows.html\",\"w\") as f:\n",
    "    f.write(page_contents)"
   ]
  },
  {
   "cell_type": "markdown",
   "metadata": {},
   "source": [
    "The page looks similiar to the original but none of the links will work in this webpage.\n",
    "\n",
    "![most-popular-tv-shows page](https://i.imgur.com/s9JYGSM.png)\n",
    "\n",
    "In this section, we have successfully used the requests library to download a webpage as HTML."
   ]
  },
  {
   "cell_type": "markdown",
   "metadata": {},
   "source": [
    "# Parse Information From HTML Using `Beautiful Soup`\n"
   ]
  },
  {
   "cell_type": "markdown",
   "metadata": {},
   "source": [
    "We can use the `BeautifulSoup` module from `bs4` library to parse the html code which was obtained using the `requests` library.\n",
    "\n",
    "The library can be installed using `pip`."
   ]
  },
  {
   "cell_type": "code",
   "execution_count": 12,
   "metadata": {},
   "outputs": [],
   "source": [
    "!pip install beautifulsoup4 --upgrade --quiet"
   ]
  },
  {
   "cell_type": "code",
   "execution_count": 13,
   "metadata": {},
   "outputs": [],
   "source": [
    "from bs4 import BeautifulSoup"
   ]
  },
  {
   "cell_type": "code",
   "execution_count": 14,
   "metadata": {},
   "outputs": [],
   "source": [
    "with open(\"most_popular_tv_shows.html\",\"r\") as f:\n",
    "    html_source = f.read()"
   ]
  },
  {
   "cell_type": "code",
   "execution_count": 15,
   "metadata": {},
   "outputs": [
    {
     "data": {
      "text/plain": [
       "'\\n\\n\\n<!DOCTYPE html>\\n<html\\n    xmlns:og=\"http://ogp.me/ns#\"\\n    xmlns:fb=\"http://www.facebook.com/2008/fbml\">\\n    <head>\\n         \\n\\n        <meta charset=\"utf-8\">\\n\\n    \\n    \\n    \\n\\n    \\n    \\n    \\n\\n            <style>\\n                body#styleguide-v2 {\\n                    background: no-repeat fixed center top #000;\\n                }\\n            </style>\\n\\n\\n\\n        <script type=\"text/javascript\">var IMDbTimer={starttime: new Date().getTime(),pt:\\'java\\'};</script>\\n\\n<script>\\n    if (typeof uet == \\'fu'"
      ]
     },
     "execution_count": 15,
     "metadata": {},
     "output_type": "execute_result"
    }
   ],
   "source": [
    "html_source[:500]"
   ]
  },
  {
   "cell_type": "markdown",
   "metadata": {},
   "source": [
    "To parse HTML contents of a webpage, we can pass the HTML contents to the `BeautifulSoup` class which returns a bs4 object."
   ]
  },
  {
   "cell_type": "code",
   "execution_count": 16,
   "metadata": {},
   "outputs": [],
   "source": [
    "doc = BeautifulSoup(html_source)"
   ]
  },
  {
   "cell_type": "code",
   "execution_count": 17,
   "metadata": {},
   "outputs": [
    {
     "data": {
      "text/plain": [
       "bs4.BeautifulSoup"
      ]
     },
     "execution_count": 17,
     "metadata": {},
     "output_type": "execute_result"
    }
   ],
   "source": [
    "type(doc)"
   ]
  },
  {
   "cell_type": "markdown",
   "metadata": {},
   "source": [
    "Here is the title of the web page\n"
   ]
  },
  {
   "cell_type": "code",
   "execution_count": 18,
   "metadata": {
    "scrolled": true
   },
   "outputs": [],
   "source": [
    "title_tag = doc.title"
   ]
  },
  {
   "cell_type": "code",
   "execution_count": 19,
   "metadata": {},
   "outputs": [
    {
     "data": {
      "text/plain": [
       "<title>Most Popular TV - IMDb</title>"
      ]
     },
     "execution_count": 19,
     "metadata": {},
     "output_type": "execute_result"
    }
   ],
   "source": [
    "title_tag"
   ]
  },
  {
   "cell_type": "code",
   "execution_count": 20,
   "metadata": {
    "scrolled": false
   },
   "outputs": [
    {
     "data": {
      "text/plain": [
       "'Most Popular TV - IMDb'"
      ]
     },
     "execution_count": 20,
     "metadata": {},
     "output_type": "execute_result"
    }
   ],
   "source": [
    "title_tag.text"
   ]
  },
  {
   "cell_type": "code",
   "execution_count": 21,
   "metadata": {},
   "outputs": [],
   "source": [
    "table_row_tag = doc.find_all(\"tr\")"
   ]
  },
  {
   "cell_type": "code",
   "execution_count": 22,
   "metadata": {},
   "outputs": [
    {
     "data": {
      "text/plain": [
       "101"
      ]
     },
     "execution_count": 22,
     "metadata": {},
     "output_type": "execute_result"
    }
   ],
   "source": [
    "len(table_row_tag)"
   ]
  },
  {
   "cell_type": "markdown",
   "metadata": {},
   "source": [
    "## Extract Show Name, Released Date and IMDB Rating from the webpages"
   ]
  },
  {
   "cell_type": "markdown",
   "metadata": {},
   "source": [
    "Here is the HTML source code where we need to navigate each tag to find the required information.\n",
    "\n",
    "Let's see under which tags of the HTML code for Shows Name, Year Of Release and IMDB Rating exists.\n",
    "\n",
    "![Source-Code](https://i.imgur.com/qTB4rDd.png)"
   ]
  },
  {
   "cell_type": "markdown",
   "metadata": {},
   "source": [
    "### Finding Show Name"
   ]
  },
  {
   "cell_type": "code",
   "execution_count": 23,
   "metadata": {},
   "outputs": [],
   "source": [
    "a_tag = table_row_tag[10]"
   ]
  },
  {
   "cell_type": "code",
   "execution_count": 24,
   "metadata": {},
   "outputs": [],
   "source": [
    "name_tag = a_tag.find('td', class_ = 'titleColumn')"
   ]
  },
  {
   "cell_type": "markdown",
   "metadata": {},
   "source": [
    "Here is the screenshot of inspect element for Extracting `Show Name` from tag `td` and class `titleColumn` having `a` tag as child.\n",
    "\n",
    "![Tags for parsing Show Name](https://i.imgur.com/N5b1c3h.png)"
   ]
  },
  {
   "cell_type": "code",
   "execution_count": 25,
   "metadata": {},
   "outputs": [],
   "source": [
    "show_names = name_tag.find('a')"
   ]
  },
  {
   "cell_type": "code",
   "execution_count": 26,
   "metadata": {},
   "outputs": [],
   "source": [
    "show_name = show_names.text"
   ]
  },
  {
   "cell_type": "markdown",
   "metadata": {},
   "source": [
    "Here is the Show Name"
   ]
  },
  {
   "cell_type": "code",
   "execution_count": 27,
   "metadata": {},
   "outputs": [
    {
     "data": {
      "text/plain": [
       "'Daisy Jones & The Six'"
      ]
     },
     "execution_count": 27,
     "metadata": {},
     "output_type": "execute_result"
    }
   ],
   "source": [
    "show_name"
   ]
  },
  {
   "cell_type": "markdown",
   "metadata": {},
   "source": [
    "### Finding Year Of Release"
   ]
  },
  {
   "cell_type": "code",
   "execution_count": 28,
   "metadata": {},
   "outputs": [],
   "source": [
    "year_tag = a_tag.find('span', class_ = 'secondaryInfo')"
   ]
  },
  {
   "cell_type": "markdown",
   "metadata": {},
   "source": [
    "Here is the screenshot of inspect element for Extracting `Released Date` of Show from tag `td` and class `titleColumn` having `span` tag as child.\n",
    "![](https://i.imgur.com/nVSFFfu.png)"
   ]
  },
  {
   "cell_type": "code",
   "execution_count": 29,
   "metadata": {},
   "outputs": [],
   "source": [
    "year_of_release = year_tag.text"
   ]
  },
  {
   "cell_type": "markdown",
   "metadata": {},
   "source": [
    "Here is the Released Date of the show"
   ]
  },
  {
   "cell_type": "code",
   "execution_count": 30,
   "metadata": {},
   "outputs": [
    {
     "data": {
      "text/plain": [
       "'(2023)'"
      ]
     },
     "execution_count": 30,
     "metadata": {},
     "output_type": "execute_result"
    }
   ],
   "source": [
    "year_of_release"
   ]
  },
  {
   "cell_type": "markdown",
   "metadata": {},
   "source": [
    "### Parsing IMDB Rating"
   ]
  },
  {
   "cell_type": "code",
   "execution_count": 31,
   "metadata": {},
   "outputs": [],
   "source": [
    "rating_tag = a_tag.find('td', class_ = 'ratingColumn imdbRating')"
   ]
  },
  {
   "cell_type": "markdown",
   "metadata": {},
   "source": [
    "Here is the screenshot of inspect element for Extracting `IMDB Rating` of Show from tag `td` and class `ratingColumn imdbRating` having `strong` tag as child.\n",
    "\n",
    "![](https://i.imgur.com/6uXFrSV.png)"
   ]
  },
  {
   "cell_type": "code",
   "execution_count": 32,
   "metadata": {},
   "outputs": [],
   "source": [
    "imdb_ratings = rating_tag.find('strong')"
   ]
  },
  {
   "cell_type": "code",
   "execution_count": 33,
   "metadata": {},
   "outputs": [],
   "source": [
    "imdb_rating = imdb_ratings.text"
   ]
  },
  {
   "cell_type": "markdown",
   "metadata": {},
   "source": [
    "Here is the IMDB Rating of the Show"
   ]
  },
  {
   "cell_type": "code",
   "execution_count": 34,
   "metadata": {
    "scrolled": true
   },
   "outputs": [
    {
     "data": {
      "text/plain": [
       "'8.1'"
      ]
     },
     "execution_count": 34,
     "metadata": {},
     "output_type": "execute_result"
    }
   ],
   "source": [
    "imdb_rating"
   ]
  },
  {
   "cell_type": "markdown",
   "metadata": {},
   "source": [
    "# Parsing Show Link"
   ]
  },
  {
   "cell_type": "code",
   "execution_count": 35,
   "metadata": {},
   "outputs": [],
   "source": [
    "link_tag = doc.find_all('td', class_ = 'titleColumn')"
   ]
  },
  {
   "cell_type": "code",
   "execution_count": 36,
   "metadata": {},
   "outputs": [
    {
     "data": {
      "text/plain": [
       "['https://www.imdb.com/title/tt13918776/',\n",
       " 'https://www.imdb.com/title/tt8111088/']"
      ]
     },
     "execution_count": 36,
     "metadata": {},
     "output_type": "execute_result"
    }
   ],
   "source": [
    "shows_url = []\n",
    "\n",
    "for link in link_tag:\n",
    "    show_link = link.find('a')\n",
    "    href_link = \"https://www.imdb.com\" + show_link['href']\n",
    "    shows_url.append(href_link)\n",
    "    \n",
    "shows_url[:2]"
   ]
  },
  {
   "cell_type": "markdown",
   "metadata": {},
   "source": [
    "## Defining A Helper Function To Download The Web Page And Returning Beautiful Soup"
   ]
  },
  {
   "cell_type": "code",
   "execution_count": 37,
   "metadata": {},
   "outputs": [],
   "source": [
    "def get_topic_page(topic):\n",
    "    #construct the url\n",
    "    topic_url = 'https://www.imdb.com/chart/' + topic\n",
    "    \n",
    "    #Get the HTML page content using requests\n",
    "    response = requests.get(topic_url)\n",
    "    \n",
    "    #Ensure that the response is valid\n",
    "    if response.status_code != 200:\n",
    "        print('Status Code:', response.status_code)\n",
    "        raise Exception('Failed to fetch the web page' + topic_url)\n",
    "    \n",
    "    #construct a beautiful soup document\n",
    "    doc = BeautifulSoup(response.text)\n",
    "    return doc"
   ]
  },
  {
   "cell_type": "markdown",
   "metadata": {},
   "source": [
    "Now we will call the function `get_topic_page` by passing the required URL as argument and verify the title of the webpage."
   ]
  },
  {
   "cell_type": "code",
   "execution_count": 38,
   "metadata": {},
   "outputs": [],
   "source": [
    "doc = get_topic_page('tvmeter/?ref_=nv_tvv_mptv')"
   ]
  },
  {
   "cell_type": "code",
   "execution_count": 39,
   "metadata": {},
   "outputs": [
    {
     "data": {
      "text/plain": [
       "'Most Popular TV - IMDb'"
      ]
     },
     "execution_count": 39,
     "metadata": {},
     "output_type": "execute_result"
    }
   ],
   "source": [
    "doc.title.text"
   ]
  },
  {
   "cell_type": "code",
   "execution_count": 40,
   "metadata": {},
   "outputs": [],
   "source": [
    "doc2 = get_topic_page('toptv/?ref_=nv_tvv_250')"
   ]
  },
  {
   "cell_type": "code",
   "execution_count": 41,
   "metadata": {},
   "outputs": [
    {
     "data": {
      "text/plain": [
       "'IMDb Top 250 TV - IMDb'"
      ]
     },
     "execution_count": 41,
     "metadata": {},
     "output_type": "execute_result"
    }
   ],
   "source": [
    "doc2.title.text"
   ]
  },
  {
   "cell_type": "markdown",
   "metadata": {},
   "source": [
    "## Function To Parse Show Details Like Show Name, Year Of Release, IMDB Rating Using Table Row Tag"
   ]
  },
  {
   "cell_type": "code",
   "execution_count": 42,
   "metadata": {},
   "outputs": [],
   "source": [
    "def parse_show_details(table_row_tag):\n",
    "    #Show Name\n",
    "    name_tag = table_row_tag.find('td', class_ = 'titleColumn')\n",
    "    show_names = name_tag.find('a')\n",
    "    show_name = show_names.text\n",
    "    \n",
    "    #Released Date\n",
    "    year_tag = table_row_tag.find('span', class_ = 'secondaryInfo')\n",
    "    year_of_release = year_tag.text\n",
    "    \n",
    "    #IMDB Rating\n",
    "    rating_tag = table_row_tag.find('td', class_ = 'ratingColumn imdbRating')\n",
    "    imdb_ratings = rating_tag.find('strong')\n",
    "    \n",
    "    if imdb_ratings is not None:\n",
    "        imdb_rating = imdb_ratings.text\n",
    "    else:\n",
    "        imdb_rating = \"N/A\"\n",
    "        \n",
    "    #Showing URLs\n",
    "    link_tag = table_row_tag.find_all('td', class_ = 'titleColumn')\n",
    "    \n",
    "    shows_url = []\n",
    "\n",
    "    for link in link_tag:\n",
    "        show_link = link.find('a')\n",
    "        href_link = \"https://www.imdb.com\" + show_link['href']\n",
    "        shows_url.append(href_link)\n",
    "    \n",
    "    \n",
    "    return {\n",
    "        'Show_Name' : show_name,\n",
    "        'Released_Date' : year_of_release,\n",
    "        'Imdb_Rating' : imdb_rating,\n",
    "        'Show_URLs': shows_url\n",
    "    \n",
    "    }\n",
    "    "
   ]
  },
  {
   "cell_type": "markdown",
   "metadata": {},
   "source": [
    "We can now use the function `parse_show_details` to extract information in the form of dictionaries"
   ]
  },
  {
   "cell_type": "code",
   "execution_count": 43,
   "metadata": {
    "scrolled": true
   },
   "outputs": [
    {
     "data": {
      "text/plain": [
       "{'Show_Name': 'The Night Agent',\n",
       " 'Released_Date': '(2023)',\n",
       " 'Imdb_Rating': '7.6',\n",
       " 'Show_URLs': ['https://www.imdb.com/title/tt13918776/']}"
      ]
     },
     "execution_count": 43,
     "metadata": {},
     "output_type": "execute_result"
    }
   ],
   "source": [
    "parse_show_details(table_row_tag[1])"
   ]
  },
  {
   "cell_type": "markdown",
   "metadata": {},
   "source": [
    "Here We are looking for only top 60 shows"
   ]
  },
  {
   "cell_type": "code",
   "execution_count": 44,
   "metadata": {},
   "outputs": [],
   "source": [
    "top_shows = [parse_show_details(tag) for tag in table_row_tag[1:61]]"
   ]
  },
  {
   "cell_type": "code",
   "execution_count": 45,
   "metadata": {},
   "outputs": [
    {
     "data": {
      "text/plain": [
       "60"
      ]
     },
     "execution_count": 45,
     "metadata": {},
     "output_type": "execute_result"
    }
   ],
   "source": [
    "len(top_shows)"
   ]
  },
  {
   "cell_type": "markdown",
   "metadata": {},
   "source": [
    "Here are the top 10 most popular Tv shows on IMDB"
   ]
  },
  {
   "cell_type": "code",
   "execution_count": 46,
   "metadata": {
    "scrolled": false
   },
   "outputs": [
    {
     "data": {
      "text/plain": [
       "[{'Show_Name': 'The Mandalorian',\n",
       "  'Released_Date': '(2019)',\n",
       "  'Imdb_Rating': '8.7',\n",
       "  'Show_URLs': ['https://www.imdb.com/title/tt8111088/']},\n",
       " {'Show_Name': 'Succession',\n",
       "  'Released_Date': '(2018)',\n",
       "  'Imdb_Rating': '8.8',\n",
       "  'Show_URLs': ['https://www.imdb.com/title/tt7660850/']},\n",
       " {'Show_Name': 'The Last of Us',\n",
       "  'Released_Date': '(2023)',\n",
       "  'Imdb_Rating': '8.9',\n",
       "  'Show_URLs': ['https://www.imdb.com/title/tt3581920/']},\n",
       " {'Show_Name': 'Ted Lasso',\n",
       "  'Released_Date': '(2020)',\n",
       "  'Imdb_Rating': '8.8',\n",
       "  'Show_URLs': ['https://www.imdb.com/title/tt10986410/']},\n",
       " {'Show_Name': 'Yellowjackets',\n",
       "  'Released_Date': '(2021)',\n",
       "  'Imdb_Rating': '7.9',\n",
       "  'Show_URLs': ['https://www.imdb.com/title/tt11041332/']},\n",
       " {'Show_Name': 'Beef',\n",
       "  'Released_Date': '(2023)',\n",
       "  'Imdb_Rating': '8.4',\n",
       "  'Show_URLs': ['https://www.imdb.com/title/tt14403178/']},\n",
       " {'Show_Name': 'Ahsoka',\n",
       "  'Released_Date': '(2023)',\n",
       "  'Imdb_Rating': 'N/A',\n",
       "  'Show_URLs': ['https://www.imdb.com/title/tt13622776/']},\n",
       " {'Show_Name': 'Unstable',\n",
       "  'Released_Date': '(2023)',\n",
       "  'Imdb_Rating': '6.8',\n",
       "  'Show_URLs': ['https://www.imdb.com/title/tt19394168/']},\n",
       " {'Show_Name': 'Daisy Jones & The Six',\n",
       "  'Released_Date': '(2023)',\n",
       "  'Imdb_Rating': '8.1',\n",
       "  'Show_URLs': ['https://www.imdb.com/title/tt8749198/']},\n",
       " {'Show_Name': 'Rabbit Hole',\n",
       "  'Released_Date': '(2023)',\n",
       "  'Imdb_Rating': '7.6',\n",
       "  'Show_URLs': ['https://www.imdb.com/title/tt5822112/']}]"
      ]
     },
     "execution_count": 46,
     "metadata": {},
     "output_type": "execute_result"
    }
   ],
   "source": [
    "top_shows[1:11]"
   ]
  },
  {
   "cell_type": "markdown",
   "metadata": {},
   "source": [
    "## Function That Take Beautiful Soup Object And Returns List Of Dictionaries"
   ]
  },
  {
   "cell_type": "code",
   "execution_count": 47,
   "metadata": {},
   "outputs": [],
   "source": [
    "def get_top_tvShows(doc):\n",
    "    table_row_tag = doc.find_all(\"tr\")\n",
    "    top_popular_shows = [parse_show_details(tag) for tag in table_row_tag[1:61]]\n",
    "    return top_popular_shows"
   ]
  },
  {
   "cell_type": "markdown",
   "metadata": {},
   "source": [
    "We can now use the functions we've defined to get the top 60 [`Most Popular TV Shows`](https://www.imdb.com/chart/tvmeter/?ref_=nv_tvv_mptv) and [`Top Rated TV Shows`](https://www.imdb.com/chart/toptv/?ref_=nv_tvv_250) on IMDB."
   ]
  },
  {
   "cell_type": "markdown",
   "metadata": {},
   "source": [
    "Here is the top 5 Most Popular TV Shows on IMDB"
   ]
  },
  {
   "cell_type": "code",
   "execution_count": 48,
   "metadata": {
    "scrolled": true
   },
   "outputs": [
    {
     "data": {
      "text/plain": [
       "[{'Show_Name': 'The Night Agent',\n",
       "  'Released_Date': '(2023)',\n",
       "  'Imdb_Rating': '7.6',\n",
       "  'Show_URLs': ['https://www.imdb.com/title/tt13918776/']},\n",
       " {'Show_Name': 'The Mandalorian',\n",
       "  'Released_Date': '(2019)',\n",
       "  'Imdb_Rating': '8.7',\n",
       "  'Show_URLs': ['https://www.imdb.com/title/tt8111088/']},\n",
       " {'Show_Name': 'Succession',\n",
       "  'Released_Date': '(2018)',\n",
       "  'Imdb_Rating': '8.8',\n",
       "  'Show_URLs': ['https://www.imdb.com/title/tt7660850/']},\n",
       " {'Show_Name': 'The Last of Us',\n",
       "  'Released_Date': '(2023)',\n",
       "  'Imdb_Rating': '8.9',\n",
       "  'Show_URLs': ['https://www.imdb.com/title/tt3581920/']},\n",
       " {'Show_Name': 'Ted Lasso',\n",
       "  'Released_Date': '(2020)',\n",
       "  'Imdb_Rating': '8.8',\n",
       "  'Show_URLs': ['https://www.imdb.com/title/tt10986410/']}]"
      ]
     },
     "execution_count": 48,
     "metadata": {},
     "output_type": "execute_result"
    }
   ],
   "source": [
    "topic_page_movies = get_topic_page('tvmeter/?ref_=nv_tvv_mptv')\n",
    "most_popular_tvShows = get_top_tvShows(topic_page_movies)\n",
    "most_popular_tvShows[:5]"
   ]
  },
  {
   "cell_type": "markdown",
   "metadata": {},
   "source": [
    "Here is the top 5 Top Rated TV Shows on IMDB"
   ]
  },
  {
   "cell_type": "code",
   "execution_count": 49,
   "metadata": {},
   "outputs": [
    {
     "data": {
      "text/plain": [
       "[{'Show_Name': 'Planet Earth II',\n",
       "  'Released_Date': '(2016)',\n",
       "  'Imdb_Rating': '9.4',\n",
       "  'Show_URLs': ['https://www.imdb.com/title/tt5491994/']},\n",
       " {'Show_Name': 'Breaking Bad',\n",
       "  'Released_Date': '(2008)',\n",
       "  'Imdb_Rating': '9.4',\n",
       "  'Show_URLs': ['https://www.imdb.com/title/tt0903747/']},\n",
       " {'Show_Name': 'Planet Earth',\n",
       "  'Released_Date': '(2006)',\n",
       "  'Imdb_Rating': '9.4',\n",
       "  'Show_URLs': ['https://www.imdb.com/title/tt0795176/']},\n",
       " {'Show_Name': 'Band of Brothers',\n",
       "  'Released_Date': '(2001)',\n",
       "  'Imdb_Rating': '9.4',\n",
       "  'Show_URLs': ['https://www.imdb.com/title/tt0185906/']},\n",
       " {'Show_Name': 'Chernobyl',\n",
       "  'Released_Date': '(2019)',\n",
       "  'Imdb_Rating': '9.3',\n",
       "  'Show_URLs': ['https://www.imdb.com/title/tt7366338/']}]"
      ]
     },
     "execution_count": 49,
     "metadata": {},
     "output_type": "execute_result"
    }
   ],
   "source": [
    "topic_page_shows = get_topic_page('toptv/?ref_=nv_tvv_250')\n",
    "top_tvshows = get_top_tvShows(topic_page_shows)\n",
    "top_tvshows[:5]"
   ]
  },
  {
   "cell_type": "code",
   "execution_count": 50,
   "metadata": {
    "scrolled": false
   },
   "outputs": [
    {
     "data": {
      "application/javascript": [
       "window.require && require([\"base/js/namespace\"],function(Jupyter){Jupyter.notebook.save_checkpoint()})"
      ],
      "text/plain": [
       "<IPython.core.display.Javascript object>"
      ]
     },
     "metadata": {},
     "output_type": "display_data"
    },
    {
     "name": "stdout",
     "output_type": "stream",
     "text": [
      "[jovian] Updating notebook \"ankitkumar22may/web-scraping-project\" on https://jovian.com\u001b[0m\n",
      "[jovian] Committed successfully! https://jovian.com/ankitkumar22may/web-scraping-project\u001b[0m\n"
     ]
    },
    {
     "data": {
      "text/plain": [
       "'https://jovian.com/ankitkumar22may/web-scraping-project'"
      ]
     },
     "execution_count": 50,
     "metadata": {},
     "output_type": "execute_result"
    }
   ],
   "source": [
    "jovian.commit()"
   ]
  },
  {
   "cell_type": "markdown",
   "metadata": {},
   "source": [
    "## Writing Information To CSV Files\n",
    "\n",
    "Let's create a helper function which takes a list of dictionaries and writes them to a CSV file."
   ]
  },
  {
   "cell_type": "code",
   "execution_count": 51,
   "metadata": {},
   "outputs": [],
   "source": [
    "def write_csv(items,path):\n",
    "    # open the file in write mode\n",
    "    with open(path,'w') as f:\n",
    "        # Return if there is nothing in write\n",
    "        if len(items) == 0:\n",
    "            return\n",
    "        \n",
    "        # Write the header in the first line\n",
    "        headers = list(items[0].keys())\n",
    "        f.write(','.join(headers) + '\\n')\n",
    "        \n",
    "        # Write one item per line\n",
    "        for item in items:\n",
    "            values = []\n",
    "            for header in headers:\n",
    "                values.append(str(item.get(header, '')))\n",
    "            f.write(','.join(values) + '\\n' )"
   ]
  },
  {
   "cell_type": "markdown",
   "metadata": {},
   "source": [
    "Let's write the data stored in `most_popular_tvShows` into a CSV file."
   ]
  },
  {
   "cell_type": "code",
   "execution_count": 52,
   "metadata": {},
   "outputs": [],
   "source": [
    "write_csv(most_popular_tvShows,'most_popular_tvShows.csv')"
   ]
  },
  {
   "cell_type": "markdown",
   "metadata": {},
   "source": [
    "We can now read the file and inspect its contents. The contents of the file can also be inspected using the \"File > Open\" menu option within Jupyter."
   ]
  },
  {
   "cell_type": "code",
   "execution_count": 53,
   "metadata": {},
   "outputs": [],
   "source": [
    "with open('most_popular_tvShows.csv','r') as f:\n",
    "    f.read()"
   ]
  },
  {
   "cell_type": "markdown",
   "metadata": {},
   "source": [
    "We've created a CSV containing the information about the top `Most Popular TV Shows` on IMDB."
   ]
  },
  {
   "cell_type": "markdown",
   "metadata": {},
   "source": [
    "Now that we have a CSV file, we can use the pandas library to view its contents.\n",
    "And we can see list of top 60 `Most Popular TV Shows` on IMDB."
   ]
  },
  {
   "cell_type": "code",
   "execution_count": 54,
   "metadata": {},
   "outputs": [],
   "source": [
    "import pandas as pd"
   ]
  },
  {
   "cell_type": "code",
   "execution_count": 55,
   "metadata": {
    "scrolled": false
   },
   "outputs": [],
   "source": [
    "most_popular_tvShows_df  = pd.read_csv('most_popular_tvShows.csv')"
   ]
  },
  {
   "cell_type": "code",
   "execution_count": 56,
   "metadata": {},
   "outputs": [],
   "source": [
    "clean_url = lambda url: url.strip(\"[]'\")\n",
    "most_popular_tvShows_df['Show_URLs'] = most_popular_tvShows_df['Show_URLs'].apply(clean_url)"
   ]
  },
  {
   "cell_type": "code",
   "execution_count": 57,
   "metadata": {},
   "outputs": [
    {
     "data": {
      "text/html": [
       "<div>\n",
       "<style scoped>\n",
       "    .dataframe tbody tr th:only-of-type {\n",
       "        vertical-align: middle;\n",
       "    }\n",
       "\n",
       "    .dataframe tbody tr th {\n",
       "        vertical-align: top;\n",
       "    }\n",
       "\n",
       "    .dataframe thead th {\n",
       "        text-align: right;\n",
       "    }\n",
       "</style>\n",
       "<table border=\"1\" class=\"dataframe\">\n",
       "  <thead>\n",
       "    <tr style=\"text-align: right;\">\n",
       "      <th></th>\n",
       "      <th>Show_Name</th>\n",
       "      <th>Released_Date</th>\n",
       "      <th>Imdb_Rating</th>\n",
       "      <th>Show_URLs</th>\n",
       "    </tr>\n",
       "  </thead>\n",
       "  <tbody>\n",
       "    <tr>\n",
       "      <th>0</th>\n",
       "      <td>The Night Agent</td>\n",
       "      <td>(2023)</td>\n",
       "      <td>7.6</td>\n",
       "      <td>https://www.imdb.com/title/tt13918776/</td>\n",
       "    </tr>\n",
       "    <tr>\n",
       "      <th>1</th>\n",
       "      <td>The Mandalorian</td>\n",
       "      <td>(2019)</td>\n",
       "      <td>8.7</td>\n",
       "      <td>https://www.imdb.com/title/tt8111088/</td>\n",
       "    </tr>\n",
       "    <tr>\n",
       "      <th>2</th>\n",
       "      <td>Succession</td>\n",
       "      <td>(2018)</td>\n",
       "      <td>8.8</td>\n",
       "      <td>https://www.imdb.com/title/tt7660850/</td>\n",
       "    </tr>\n",
       "    <tr>\n",
       "      <th>3</th>\n",
       "      <td>The Last of Us</td>\n",
       "      <td>(2023)</td>\n",
       "      <td>8.9</td>\n",
       "      <td>https://www.imdb.com/title/tt3581920/</td>\n",
       "    </tr>\n",
       "    <tr>\n",
       "      <th>4</th>\n",
       "      <td>Ted Lasso</td>\n",
       "      <td>(2020)</td>\n",
       "      <td>8.8</td>\n",
       "      <td>https://www.imdb.com/title/tt10986410/</td>\n",
       "    </tr>\n",
       "    <tr>\n",
       "      <th>5</th>\n",
       "      <td>Yellowjackets</td>\n",
       "      <td>(2021)</td>\n",
       "      <td>7.9</td>\n",
       "      <td>https://www.imdb.com/title/tt11041332/</td>\n",
       "    </tr>\n",
       "    <tr>\n",
       "      <th>6</th>\n",
       "      <td>Beef</td>\n",
       "      <td>(2023)</td>\n",
       "      <td>8.4</td>\n",
       "      <td>https://www.imdb.com/title/tt14403178/</td>\n",
       "    </tr>\n",
       "    <tr>\n",
       "      <th>7</th>\n",
       "      <td>Ahsoka</td>\n",
       "      <td>(2023)</td>\n",
       "      <td>NaN</td>\n",
       "      <td>https://www.imdb.com/title/tt13622776/</td>\n",
       "    </tr>\n",
       "    <tr>\n",
       "      <th>8</th>\n",
       "      <td>Unstable</td>\n",
       "      <td>(2023)</td>\n",
       "      <td>6.8</td>\n",
       "      <td>https://www.imdb.com/title/tt19394168/</td>\n",
       "    </tr>\n",
       "    <tr>\n",
       "      <th>9</th>\n",
       "      <td>Daisy Jones &amp; The Six</td>\n",
       "      <td>(2023)</td>\n",
       "      <td>8.1</td>\n",
       "      <td>https://www.imdb.com/title/tt8749198/</td>\n",
       "    </tr>\n",
       "    <tr>\n",
       "      <th>10</th>\n",
       "      <td>Rabbit Hole</td>\n",
       "      <td>(2023)</td>\n",
       "      <td>7.6</td>\n",
       "      <td>https://www.imdb.com/title/tt5822112/</td>\n",
       "    </tr>\n",
       "    <tr>\n",
       "      <th>11</th>\n",
       "      <td>Star Trek: Picard</td>\n",
       "      <td>(2020)</td>\n",
       "      <td>7.3</td>\n",
       "      <td>https://www.imdb.com/title/tt8806524/</td>\n",
       "    </tr>\n",
       "    <tr>\n",
       "      <th>12</th>\n",
       "      <td>Shadow and Bone</td>\n",
       "      <td>(2021)</td>\n",
       "      <td>7.6</td>\n",
       "      <td>https://www.imdb.com/title/tt2403776/</td>\n",
       "    </tr>\n",
       "    <tr>\n",
       "      <th>13</th>\n",
       "      <td>Yellowstone</td>\n",
       "      <td>(2018)</td>\n",
       "      <td>8.7</td>\n",
       "      <td>https://www.imdb.com/title/tt4236770/</td>\n",
       "    </tr>\n",
       "    <tr>\n",
       "      <th>14</th>\n",
       "      <td>Shrinking</td>\n",
       "      <td>(2023)</td>\n",
       "      <td>8.1</td>\n",
       "      <td>https://www.imdb.com/title/tt15677150/</td>\n",
       "    </tr>\n",
       "    <tr>\n",
       "      <th>15</th>\n",
       "      <td>Game of Thrones</td>\n",
       "      <td>(2011)</td>\n",
       "      <td>9.2</td>\n",
       "      <td>https://www.imdb.com/title/tt0944947/</td>\n",
       "    </tr>\n",
       "    <tr>\n",
       "      <th>16</th>\n",
       "      <td>Secret Invasion</td>\n",
       "      <td>(2023)</td>\n",
       "      <td>NaN</td>\n",
       "      <td>https://www.imdb.com/title/tt13157618/</td>\n",
       "    </tr>\n",
       "    <tr>\n",
       "      <th>17</th>\n",
       "      <td>The Walking Dead</td>\n",
       "      <td>(2010)</td>\n",
       "      <td>8.1</td>\n",
       "      <td>https://www.imdb.com/title/tt1520211/</td>\n",
       "    </tr>\n",
       "    <tr>\n",
       "      <th>18</th>\n",
       "      <td>The Power</td>\n",
       "      <td>(2023)</td>\n",
       "      <td>5.9</td>\n",
       "      <td>https://www.imdb.com/title/tt10369484/</td>\n",
       "    </tr>\n",
       "    <tr>\n",
       "      <th>19</th>\n",
       "      <td>Breaking Bad</td>\n",
       "      <td>(2008)</td>\n",
       "      <td>9.5</td>\n",
       "      <td>https://www.imdb.com/title/tt0903747/</td>\n",
       "    </tr>\n",
       "    <tr>\n",
       "      <th>20</th>\n",
       "      <td>You</td>\n",
       "      <td>(2018)</td>\n",
       "      <td>7.7</td>\n",
       "      <td>https://www.imdb.com/title/tt7335184/</td>\n",
       "    </tr>\n",
       "    <tr>\n",
       "      <th>21</th>\n",
       "      <td>The White Lotus</td>\n",
       "      <td>(2021)</td>\n",
       "      <td>7.9</td>\n",
       "      <td>https://www.imdb.com/title/tt13406094/</td>\n",
       "    </tr>\n",
       "    <tr>\n",
       "      <th>22</th>\n",
       "      <td>Grey's Anatomy</td>\n",
       "      <td>(2005)</td>\n",
       "      <td>7.6</td>\n",
       "      <td>https://www.imdb.com/title/tt0413573/</td>\n",
       "    </tr>\n",
       "    <tr>\n",
       "      <th>23</th>\n",
       "      <td>Citadel</td>\n",
       "      <td>(2023)</td>\n",
       "      <td>NaN</td>\n",
       "      <td>https://www.imdb.com/title/tt9794044/</td>\n",
       "    </tr>\n",
       "    <tr>\n",
       "      <th>24</th>\n",
       "      <td>South Park</td>\n",
       "      <td>(1997)</td>\n",
       "      <td>8.7</td>\n",
       "      <td>https://www.imdb.com/title/tt0121955/</td>\n",
       "    </tr>\n",
       "    <tr>\n",
       "      <th>25</th>\n",
       "      <td>Swarm</td>\n",
       "      <td>(2023)</td>\n",
       "      <td>7.2</td>\n",
       "      <td>https://www.imdb.com/title/tt14961048/</td>\n",
       "    </tr>\n",
       "    <tr>\n",
       "      <th>26</th>\n",
       "      <td>Blue Lights</td>\n",
       "      <td>(2023)</td>\n",
       "      <td>8.3</td>\n",
       "      <td>https://www.imdb.com/title/tt14466018/</td>\n",
       "    </tr>\n",
       "    <tr>\n",
       "      <th>27</th>\n",
       "      <td>The Blacklist</td>\n",
       "      <td>(2013)</td>\n",
       "      <td>8.0</td>\n",
       "      <td>https://www.imdb.com/title/tt2741602/</td>\n",
       "    </tr>\n",
       "    <tr>\n",
       "      <th>28</th>\n",
       "      <td>Wellmania</td>\n",
       "      <td>(2023)</td>\n",
       "      <td>6.8</td>\n",
       "      <td>https://www.imdb.com/title/tt16402422/</td>\n",
       "    </tr>\n",
       "    <tr>\n",
       "      <th>29</th>\n",
       "      <td>Attack on Titan</td>\n",
       "      <td>(2013)</td>\n",
       "      <td>9.0</td>\n",
       "      <td>https://www.imdb.com/title/tt2560140/</td>\n",
       "    </tr>\n",
       "    <tr>\n",
       "      <th>30</th>\n",
       "      <td>Better Call Saul</td>\n",
       "      <td>(2015)</td>\n",
       "      <td>8.9</td>\n",
       "      <td>https://www.imdb.com/title/tt3032476/</td>\n",
       "    </tr>\n",
       "    <tr>\n",
       "      <th>31</th>\n",
       "      <td>The Rookie</td>\n",
       "      <td>(2018)</td>\n",
       "      <td>8.0</td>\n",
       "      <td>https://www.imdb.com/title/tt7587890/</td>\n",
       "    </tr>\n",
       "    <tr>\n",
       "      <th>32</th>\n",
       "      <td>Perry Mason</td>\n",
       "      <td>(2020)</td>\n",
       "      <td>7.6</td>\n",
       "      <td>https://www.imdb.com/title/tt2077823/</td>\n",
       "    </tr>\n",
       "    <tr>\n",
       "      <th>33</th>\n",
       "      <td>1923</td>\n",
       "      <td>(2022)</td>\n",
       "      <td>8.4</td>\n",
       "      <td>https://www.imdb.com/title/tt18335752/</td>\n",
       "    </tr>\n",
       "    <tr>\n",
       "      <th>34</th>\n",
       "      <td>The Boys</td>\n",
       "      <td>(2019)</td>\n",
       "      <td>8.7</td>\n",
       "      <td>https://www.imdb.com/title/tt1190634/</td>\n",
       "    </tr>\n",
       "    <tr>\n",
       "      <th>35</th>\n",
       "      <td>Stranger Things</td>\n",
       "      <td>(2016)</td>\n",
       "      <td>8.7</td>\n",
       "      <td>https://www.imdb.com/title/tt4574334/</td>\n",
       "    </tr>\n",
       "    <tr>\n",
       "      <th>36</th>\n",
       "      <td>Law &amp; Order: Special Victims Unit</td>\n",
       "      <td>(1999)</td>\n",
       "      <td>8.1</td>\n",
       "      <td>https://www.imdb.com/title/tt0203259/</td>\n",
       "    </tr>\n",
       "    <tr>\n",
       "      <th>37</th>\n",
       "      <td>Sex/Life</td>\n",
       "      <td>(2021)</td>\n",
       "      <td>5.5</td>\n",
       "      <td>https://www.imdb.com/title/tt10839422/</td>\n",
       "    </tr>\n",
       "    <tr>\n",
       "      <th>38</th>\n",
       "      <td>Wednesday</td>\n",
       "      <td>(2022)</td>\n",
       "      <td>8.1</td>\n",
       "      <td>https://www.imdb.com/title/tt13443470/</td>\n",
       "    </tr>\n",
       "    <tr>\n",
       "      <th>39</th>\n",
       "      <td>The Sopranos</td>\n",
       "      <td>(1999)</td>\n",
       "      <td>9.2</td>\n",
       "      <td>https://www.imdb.com/title/tt0141842/</td>\n",
       "    </tr>\n",
       "    <tr>\n",
       "      <th>40</th>\n",
       "      <td>Supernatural</td>\n",
       "      <td>(2005)</td>\n",
       "      <td>8.4</td>\n",
       "      <td>https://www.imdb.com/title/tt0460681/</td>\n",
       "    </tr>\n",
       "    <tr>\n",
       "      <th>41</th>\n",
       "      <td>The Office</td>\n",
       "      <td>(2005)</td>\n",
       "      <td>9.0</td>\n",
       "      <td>https://www.imdb.com/title/tt0386676/</td>\n",
       "    </tr>\n",
       "    <tr>\n",
       "      <th>42</th>\n",
       "      <td>The Flash</td>\n",
       "      <td>(2014)</td>\n",
       "      <td>7.5</td>\n",
       "      <td>https://www.imdb.com/title/tt3107288/</td>\n",
       "    </tr>\n",
       "    <tr>\n",
       "      <th>43</th>\n",
       "      <td>Criminal Minds</td>\n",
       "      <td>(2005)</td>\n",
       "      <td>8.1</td>\n",
       "      <td>https://www.imdb.com/title/tt0452046/</td>\n",
       "    </tr>\n",
       "    <tr>\n",
       "      <th>44</th>\n",
       "      <td>Modern Family</td>\n",
       "      <td>(2009)</td>\n",
       "      <td>8.5</td>\n",
       "      <td>https://www.imdb.com/title/tt1442437/</td>\n",
       "    </tr>\n",
       "    <tr>\n",
       "      <th>45</th>\n",
       "      <td>Schmigadoon!</td>\n",
       "      <td>(2021)</td>\n",
       "      <td>7.3</td>\n",
       "      <td>https://www.imdb.com/title/tt11808942/</td>\n",
       "    </tr>\n",
       "    <tr>\n",
       "      <th>46</th>\n",
       "      <td>Magpie Murders</td>\n",
       "      <td>(2022)</td>\n",
       "      <td>7.5</td>\n",
       "      <td>https://www.imdb.com/title/tt13186264/</td>\n",
       "    </tr>\n",
       "    <tr>\n",
       "      <th>47</th>\n",
       "      <td>Love &amp; Death</td>\n",
       "      <td>(2023)</td>\n",
       "      <td>8.8</td>\n",
       "      <td>https://www.imdb.com/title/tt14586350/</td>\n",
       "    </tr>\n",
       "    <tr>\n",
       "      <th>48</th>\n",
       "      <td>Poker Face</td>\n",
       "      <td>(2023)</td>\n",
       "      <td>8.0</td>\n",
       "      <td>https://www.imdb.com/title/tt14269590/</td>\n",
       "    </tr>\n",
       "    <tr>\n",
       "      <th>49</th>\n",
       "      <td>Lucky Hank</td>\n",
       "      <td>(2023)</td>\n",
       "      <td>6.8</td>\n",
       "      <td>https://www.imdb.com/title/tt19785210/</td>\n",
       "    </tr>\n",
       "    <tr>\n",
       "      <th>50</th>\n",
       "      <td>NCIS</td>\n",
       "      <td>(2003)</td>\n",
       "      <td>7.8</td>\n",
       "      <td>https://www.imdb.com/title/tt0364845/</td>\n",
       "    </tr>\n",
       "    <tr>\n",
       "      <th>51</th>\n",
       "      <td>Young Sheldon</td>\n",
       "      <td>(2017)</td>\n",
       "      <td>7.6</td>\n",
       "      <td>https://www.imdb.com/title/tt6226232/</td>\n",
       "    </tr>\n",
       "    <tr>\n",
       "      <th>52</th>\n",
       "      <td>Grease: Rise of the Pink Ladies</td>\n",
       "      <td>(2023)</td>\n",
       "      <td>5.0</td>\n",
       "      <td>https://www.imdb.com/title/tt11127388/</td>\n",
       "    </tr>\n",
       "    <tr>\n",
       "      <th>53</th>\n",
       "      <td>Friends</td>\n",
       "      <td>(1994)</td>\n",
       "      <td>8.9</td>\n",
       "      <td>https://www.imdb.com/title/tt0108778/</td>\n",
       "    </tr>\n",
       "    <tr>\n",
       "      <th>54</th>\n",
       "      <td>The Chosen</td>\n",
       "      <td>(2017)</td>\n",
       "      <td>9.3</td>\n",
       "      <td>https://www.imdb.com/title/tt9471404/</td>\n",
       "    </tr>\n",
       "    <tr>\n",
       "      <th>55</th>\n",
       "      <td>Luther</td>\n",
       "      <td>(2010)</td>\n",
       "      <td>8.4</td>\n",
       "      <td>https://www.imdb.com/title/tt1474684/</td>\n",
       "    </tr>\n",
       "    <tr>\n",
       "      <th>56</th>\n",
       "      <td>True Detective</td>\n",
       "      <td>(2014)</td>\n",
       "      <td>8.9</td>\n",
       "      <td>https://www.imdb.com/title/tt2356777/</td>\n",
       "    </tr>\n",
       "    <tr>\n",
       "      <th>57</th>\n",
       "      <td>Peaky Blinders</td>\n",
       "      <td>(2013)</td>\n",
       "      <td>8.8</td>\n",
       "      <td>https://www.imdb.com/title/tt2442560/</td>\n",
       "    </tr>\n",
       "    <tr>\n",
       "      <th>58</th>\n",
       "      <td>The Big Door Prize</td>\n",
       "      <td>(2023)</td>\n",
       "      <td>6.5</td>\n",
       "      <td>https://www.imdb.com/title/tt14761860/</td>\n",
       "    </tr>\n",
       "    <tr>\n",
       "      <th>59</th>\n",
       "      <td>Great Expectations</td>\n",
       "      <td>(2023)</td>\n",
       "      <td>4.7</td>\n",
       "      <td>https://www.imdb.com/title/tt13068346/</td>\n",
       "    </tr>\n",
       "  </tbody>\n",
       "</table>\n",
       "</div>"
      ],
      "text/plain": [
       "                            Show_Name Released_Date  Imdb_Rating  \\\n",
       "0                     The Night Agent        (2023)          7.6   \n",
       "1                     The Mandalorian        (2019)          8.7   \n",
       "2                          Succession        (2018)          8.8   \n",
       "3                      The Last of Us        (2023)          8.9   \n",
       "4                           Ted Lasso        (2020)          8.8   \n",
       "5                       Yellowjackets        (2021)          7.9   \n",
       "6                                Beef        (2023)          8.4   \n",
       "7                              Ahsoka        (2023)          NaN   \n",
       "8                            Unstable        (2023)          6.8   \n",
       "9               Daisy Jones & The Six        (2023)          8.1   \n",
       "10                        Rabbit Hole        (2023)          7.6   \n",
       "11                  Star Trek: Picard        (2020)          7.3   \n",
       "12                    Shadow and Bone        (2021)          7.6   \n",
       "13                        Yellowstone        (2018)          8.7   \n",
       "14                          Shrinking        (2023)          8.1   \n",
       "15                    Game of Thrones        (2011)          9.2   \n",
       "16                    Secret Invasion        (2023)          NaN   \n",
       "17                   The Walking Dead        (2010)          8.1   \n",
       "18                          The Power        (2023)          5.9   \n",
       "19                       Breaking Bad        (2008)          9.5   \n",
       "20                                You        (2018)          7.7   \n",
       "21                    The White Lotus        (2021)          7.9   \n",
       "22                     Grey's Anatomy        (2005)          7.6   \n",
       "23                            Citadel        (2023)          NaN   \n",
       "24                         South Park        (1997)          8.7   \n",
       "25                              Swarm        (2023)          7.2   \n",
       "26                        Blue Lights        (2023)          8.3   \n",
       "27                      The Blacklist        (2013)          8.0   \n",
       "28                          Wellmania        (2023)          6.8   \n",
       "29                    Attack on Titan        (2013)          9.0   \n",
       "30                   Better Call Saul        (2015)          8.9   \n",
       "31                         The Rookie        (2018)          8.0   \n",
       "32                        Perry Mason        (2020)          7.6   \n",
       "33                               1923        (2022)          8.4   \n",
       "34                           The Boys        (2019)          8.7   \n",
       "35                    Stranger Things        (2016)          8.7   \n",
       "36  Law & Order: Special Victims Unit        (1999)          8.1   \n",
       "37                           Sex/Life        (2021)          5.5   \n",
       "38                          Wednesday        (2022)          8.1   \n",
       "39                       The Sopranos        (1999)          9.2   \n",
       "40                       Supernatural        (2005)          8.4   \n",
       "41                         The Office        (2005)          9.0   \n",
       "42                          The Flash        (2014)          7.5   \n",
       "43                     Criminal Minds        (2005)          8.1   \n",
       "44                      Modern Family        (2009)          8.5   \n",
       "45                       Schmigadoon!        (2021)          7.3   \n",
       "46                     Magpie Murders        (2022)          7.5   \n",
       "47                       Love & Death        (2023)          8.8   \n",
       "48                         Poker Face        (2023)          8.0   \n",
       "49                         Lucky Hank        (2023)          6.8   \n",
       "50                               NCIS        (2003)          7.8   \n",
       "51                      Young Sheldon        (2017)          7.6   \n",
       "52    Grease: Rise of the Pink Ladies        (2023)          5.0   \n",
       "53                            Friends        (1994)          8.9   \n",
       "54                         The Chosen        (2017)          9.3   \n",
       "55                             Luther        (2010)          8.4   \n",
       "56                     True Detective        (2014)          8.9   \n",
       "57                     Peaky Blinders        (2013)          8.8   \n",
       "58                 The Big Door Prize        (2023)          6.5   \n",
       "59                 Great Expectations        (2023)          4.7   \n",
       "\n",
       "                                 Show_URLs  \n",
       "0   https://www.imdb.com/title/tt13918776/  \n",
       "1    https://www.imdb.com/title/tt8111088/  \n",
       "2    https://www.imdb.com/title/tt7660850/  \n",
       "3    https://www.imdb.com/title/tt3581920/  \n",
       "4   https://www.imdb.com/title/tt10986410/  \n",
       "5   https://www.imdb.com/title/tt11041332/  \n",
       "6   https://www.imdb.com/title/tt14403178/  \n",
       "7   https://www.imdb.com/title/tt13622776/  \n",
       "8   https://www.imdb.com/title/tt19394168/  \n",
       "9    https://www.imdb.com/title/tt8749198/  \n",
       "10   https://www.imdb.com/title/tt5822112/  \n",
       "11   https://www.imdb.com/title/tt8806524/  \n",
       "12   https://www.imdb.com/title/tt2403776/  \n",
       "13   https://www.imdb.com/title/tt4236770/  \n",
       "14  https://www.imdb.com/title/tt15677150/  \n",
       "15   https://www.imdb.com/title/tt0944947/  \n",
       "16  https://www.imdb.com/title/tt13157618/  \n",
       "17   https://www.imdb.com/title/tt1520211/  \n",
       "18  https://www.imdb.com/title/tt10369484/  \n",
       "19   https://www.imdb.com/title/tt0903747/  \n",
       "20   https://www.imdb.com/title/tt7335184/  \n",
       "21  https://www.imdb.com/title/tt13406094/  \n",
       "22   https://www.imdb.com/title/tt0413573/  \n",
       "23   https://www.imdb.com/title/tt9794044/  \n",
       "24   https://www.imdb.com/title/tt0121955/  \n",
       "25  https://www.imdb.com/title/tt14961048/  \n",
       "26  https://www.imdb.com/title/tt14466018/  \n",
       "27   https://www.imdb.com/title/tt2741602/  \n",
       "28  https://www.imdb.com/title/tt16402422/  \n",
       "29   https://www.imdb.com/title/tt2560140/  \n",
       "30   https://www.imdb.com/title/tt3032476/  \n",
       "31   https://www.imdb.com/title/tt7587890/  \n",
       "32   https://www.imdb.com/title/tt2077823/  \n",
       "33  https://www.imdb.com/title/tt18335752/  \n",
       "34   https://www.imdb.com/title/tt1190634/  \n",
       "35   https://www.imdb.com/title/tt4574334/  \n",
       "36   https://www.imdb.com/title/tt0203259/  \n",
       "37  https://www.imdb.com/title/tt10839422/  \n",
       "38  https://www.imdb.com/title/tt13443470/  \n",
       "39   https://www.imdb.com/title/tt0141842/  \n",
       "40   https://www.imdb.com/title/tt0460681/  \n",
       "41   https://www.imdb.com/title/tt0386676/  \n",
       "42   https://www.imdb.com/title/tt3107288/  \n",
       "43   https://www.imdb.com/title/tt0452046/  \n",
       "44   https://www.imdb.com/title/tt1442437/  \n",
       "45  https://www.imdb.com/title/tt11808942/  \n",
       "46  https://www.imdb.com/title/tt13186264/  \n",
       "47  https://www.imdb.com/title/tt14586350/  \n",
       "48  https://www.imdb.com/title/tt14269590/  \n",
       "49  https://www.imdb.com/title/tt19785210/  \n",
       "50   https://www.imdb.com/title/tt0364845/  \n",
       "51   https://www.imdb.com/title/tt6226232/  \n",
       "52  https://www.imdb.com/title/tt11127388/  \n",
       "53   https://www.imdb.com/title/tt0108778/  \n",
       "54   https://www.imdb.com/title/tt9471404/  \n",
       "55   https://www.imdb.com/title/tt1474684/  \n",
       "56   https://www.imdb.com/title/tt2356777/  \n",
       "57   https://www.imdb.com/title/tt2442560/  \n",
       "58  https://www.imdb.com/title/tt14761860/  \n",
       "59  https://www.imdb.com/title/tt13068346/  "
      ]
     },
     "execution_count": 57,
     "metadata": {},
     "output_type": "execute_result"
    }
   ],
   "source": [
    "most_popular_tvShows_df"
   ]
  },
  {
   "cell_type": "markdown",
   "metadata": {},
   "source": [
    "Now, we can also create csv file for `Top Rated TV Shows` on IMDB"
   ]
  },
  {
   "cell_type": "code",
   "execution_count": 58,
   "metadata": {},
   "outputs": [],
   "source": [
    "write_csv(top_tvshows,'top_tvshows.csv')"
   ]
  },
  {
   "cell_type": "code",
   "execution_count": 59,
   "metadata": {
    "scrolled": true
   },
   "outputs": [],
   "source": [
    "with open('top_tvshows.csv','r') as f:\n",
    "    f.read()"
   ]
  },
  {
   "cell_type": "markdown",
   "metadata": {},
   "source": [
    "We've created a CSV containing the information about the Top Rated TV Shows on IMDB.\n",
    "\n",
    "Now that we have a CSV file, we can use the pandas library to view its contents. And we can see list of top 60 `Top Rated TV Shows` on IMDB"
   ]
  },
  {
   "cell_type": "code",
   "execution_count": 60,
   "metadata": {},
   "outputs": [],
   "source": [
    "top_tvshows_df = pd.read_csv('top_tvshows.csv')"
   ]
  },
  {
   "cell_type": "code",
   "execution_count": 61,
   "metadata": {},
   "outputs": [],
   "source": [
    "top_tvshows_df['Show_URLs'] = top_tvshows_df['Show_URLs'].apply(clean_url)"
   ]
  },
  {
   "cell_type": "code",
   "execution_count": 62,
   "metadata": {},
   "outputs": [
    {
     "data": {
      "text/html": [
       "<div>\n",
       "<style scoped>\n",
       "    .dataframe tbody tr th:only-of-type {\n",
       "        vertical-align: middle;\n",
       "    }\n",
       "\n",
       "    .dataframe tbody tr th {\n",
       "        vertical-align: top;\n",
       "    }\n",
       "\n",
       "    .dataframe thead th {\n",
       "        text-align: right;\n",
       "    }\n",
       "</style>\n",
       "<table border=\"1\" class=\"dataframe\">\n",
       "  <thead>\n",
       "    <tr style=\"text-align: right;\">\n",
       "      <th></th>\n",
       "      <th>Show_Name</th>\n",
       "      <th>Released_Date</th>\n",
       "      <th>Imdb_Rating</th>\n",
       "      <th>Show_URLs</th>\n",
       "    </tr>\n",
       "  </thead>\n",
       "  <tbody>\n",
       "    <tr>\n",
       "      <th>0</th>\n",
       "      <td>Planet Earth II</td>\n",
       "      <td>(2016)</td>\n",
       "      <td>9.4</td>\n",
       "      <td>https://www.imdb.com/title/tt5491994/</td>\n",
       "    </tr>\n",
       "    <tr>\n",
       "      <th>1</th>\n",
       "      <td>Breaking Bad</td>\n",
       "      <td>(2008)</td>\n",
       "      <td>9.4</td>\n",
       "      <td>https://www.imdb.com/title/tt0903747/</td>\n",
       "    </tr>\n",
       "    <tr>\n",
       "      <th>2</th>\n",
       "      <td>Planet Earth</td>\n",
       "      <td>(2006)</td>\n",
       "      <td>9.4</td>\n",
       "      <td>https://www.imdb.com/title/tt0795176/</td>\n",
       "    </tr>\n",
       "    <tr>\n",
       "      <th>3</th>\n",
       "      <td>Band of Brothers</td>\n",
       "      <td>(2001)</td>\n",
       "      <td>9.4</td>\n",
       "      <td>https://www.imdb.com/title/tt0185906/</td>\n",
       "    </tr>\n",
       "    <tr>\n",
       "      <th>4</th>\n",
       "      <td>Chernobyl</td>\n",
       "      <td>(2019)</td>\n",
       "      <td>9.3</td>\n",
       "      <td>https://www.imdb.com/title/tt7366338/</td>\n",
       "    </tr>\n",
       "    <tr>\n",
       "      <th>5</th>\n",
       "      <td>The Wire</td>\n",
       "      <td>(2002)</td>\n",
       "      <td>9.3</td>\n",
       "      <td>https://www.imdb.com/title/tt0306414/</td>\n",
       "    </tr>\n",
       "    <tr>\n",
       "      <th>6</th>\n",
       "      <td>Avatar: The Last Airbender</td>\n",
       "      <td>(2005)</td>\n",
       "      <td>9.2</td>\n",
       "      <td>https://www.imdb.com/title/tt0417299/</td>\n",
       "    </tr>\n",
       "    <tr>\n",
       "      <th>7</th>\n",
       "      <td>Blue Planet II</td>\n",
       "      <td>(2017)</td>\n",
       "      <td>9.2</td>\n",
       "      <td>https://www.imdb.com/title/tt6769208/</td>\n",
       "    </tr>\n",
       "    <tr>\n",
       "      <th>8</th>\n",
       "      <td>The Sopranos</td>\n",
       "      <td>(1999)</td>\n",
       "      <td>9.2</td>\n",
       "      <td>https://www.imdb.com/title/tt0141842/</td>\n",
       "    </tr>\n",
       "    <tr>\n",
       "      <th>9</th>\n",
       "      <td>Cosmos: A Spacetime Odyssey</td>\n",
       "      <td>(2014)</td>\n",
       "      <td>9.2</td>\n",
       "      <td>https://www.imdb.com/title/tt2395695/</td>\n",
       "    </tr>\n",
       "    <tr>\n",
       "      <th>10</th>\n",
       "      <td>Cosmos</td>\n",
       "      <td>(1980)</td>\n",
       "      <td>9.2</td>\n",
       "      <td>https://www.imdb.com/title/tt0081846/</td>\n",
       "    </tr>\n",
       "    <tr>\n",
       "      <th>11</th>\n",
       "      <td>Our Planet</td>\n",
       "      <td>(2019)</td>\n",
       "      <td>9.2</td>\n",
       "      <td>https://www.imdb.com/title/tt9253866/</td>\n",
       "    </tr>\n",
       "    <tr>\n",
       "      <th>12</th>\n",
       "      <td>Game of Thrones</td>\n",
       "      <td>(2011)</td>\n",
       "      <td>9.1</td>\n",
       "      <td>https://www.imdb.com/title/tt0944947/</td>\n",
       "    </tr>\n",
       "    <tr>\n",
       "      <th>13</th>\n",
       "      <td>The World at War</td>\n",
       "      <td>(1973)</td>\n",
       "      <td>9.1</td>\n",
       "      <td>https://www.imdb.com/title/tt0071075/</td>\n",
       "    </tr>\n",
       "    <tr>\n",
       "      <th>14</th>\n",
       "      <td>Rick and Morty</td>\n",
       "      <td>(2013)</td>\n",
       "      <td>9.1</td>\n",
       "      <td>https://www.imdb.com/title/tt2861424/</td>\n",
       "    </tr>\n",
       "    <tr>\n",
       "      <th>15</th>\n",
       "      <td>Fullmetal Alchemist: Brotherhood</td>\n",
       "      <td>(2009)</td>\n",
       "      <td>9.0</td>\n",
       "      <td>https://www.imdb.com/title/tt1355642/</td>\n",
       "    </tr>\n",
       "    <tr>\n",
       "      <th>16</th>\n",
       "      <td>The Last Dance</td>\n",
       "      <td>(2020)</td>\n",
       "      <td>9.0</td>\n",
       "      <td>https://www.imdb.com/title/tt8420184/</td>\n",
       "    </tr>\n",
       "    <tr>\n",
       "      <th>17</th>\n",
       "      <td>Life</td>\n",
       "      <td>(2009)</td>\n",
       "      <td>9.0</td>\n",
       "      <td>https://www.imdb.com/title/tt1533395/</td>\n",
       "    </tr>\n",
       "    <tr>\n",
       "      <th>18</th>\n",
       "      <td>The Twilight Zone</td>\n",
       "      <td>(1959)</td>\n",
       "      <td>9.0</td>\n",
       "      <td>https://www.imdb.com/title/tt0052520/</td>\n",
       "    </tr>\n",
       "    <tr>\n",
       "      <th>19</th>\n",
       "      <td>Sherlock</td>\n",
       "      <td>(2010)</td>\n",
       "      <td>9.0</td>\n",
       "      <td>https://www.imdb.com/title/tt1475582/</td>\n",
       "    </tr>\n",
       "    <tr>\n",
       "      <th>20</th>\n",
       "      <td>The Vietnam War</td>\n",
       "      <td>(2017)</td>\n",
       "      <td>9.0</td>\n",
       "      <td>https://www.imdb.com/title/tt1877514/</td>\n",
       "    </tr>\n",
       "    <tr>\n",
       "      <th>21</th>\n",
       "      <td>Bluey</td>\n",
       "      <td>(2018)</td>\n",
       "      <td>9.0</td>\n",
       "      <td>https://www.imdb.com/title/tt7678620/</td>\n",
       "    </tr>\n",
       "    <tr>\n",
       "      <th>22</th>\n",
       "      <td>Batman: The Animated Series</td>\n",
       "      <td>(1992)</td>\n",
       "      <td>9.0</td>\n",
       "      <td>https://www.imdb.com/title/tt0103359/</td>\n",
       "    </tr>\n",
       "    <tr>\n",
       "      <th>23</th>\n",
       "      <td>Scam 1992: The Harshad Mehta Story</td>\n",
       "      <td>(2020)</td>\n",
       "      <td>8.9</td>\n",
       "      <td>https://www.imdb.com/title/tt12392504/</td>\n",
       "    </tr>\n",
       "    <tr>\n",
       "      <th>24</th>\n",
       "      <td>Attack on Titan</td>\n",
       "      <td>(2013)</td>\n",
       "      <td>8.9</td>\n",
       "      <td>https://www.imdb.com/title/tt2560140/</td>\n",
       "    </tr>\n",
       "    <tr>\n",
       "      <th>25</th>\n",
       "      <td>Arcane</td>\n",
       "      <td>(2021)</td>\n",
       "      <td>8.9</td>\n",
       "      <td>https://www.imdb.com/title/tt11126994/</td>\n",
       "    </tr>\n",
       "    <tr>\n",
       "      <th>26</th>\n",
       "      <td>The Blue Planet</td>\n",
       "      <td>(2001)</td>\n",
       "      <td>8.9</td>\n",
       "      <td>https://www.imdb.com/title/tt0296310/</td>\n",
       "    </tr>\n",
       "    <tr>\n",
       "      <th>27</th>\n",
       "      <td>The Office</td>\n",
       "      <td>(2005)</td>\n",
       "      <td>8.9</td>\n",
       "      <td>https://www.imdb.com/title/tt0386676/</td>\n",
       "    </tr>\n",
       "    <tr>\n",
       "      <th>28</th>\n",
       "      <td>Human Planet</td>\n",
       "      <td>(2011)</td>\n",
       "      <td>8.9</td>\n",
       "      <td>https://www.imdb.com/title/tt1806234/</td>\n",
       "    </tr>\n",
       "    <tr>\n",
       "      <th>29</th>\n",
       "      <td>Firefly</td>\n",
       "      <td>(2002)</td>\n",
       "      <td>8.9</td>\n",
       "      <td>https://www.imdb.com/title/tt0303461/</td>\n",
       "    </tr>\n",
       "    <tr>\n",
       "      <th>30</th>\n",
       "      <td>Frozen Planet</td>\n",
       "      <td>(2011)</td>\n",
       "      <td>8.9</td>\n",
       "      <td>https://www.imdb.com/title/tt2092588/</td>\n",
       "    </tr>\n",
       "    <tr>\n",
       "      <th>31</th>\n",
       "      <td>Death Note</td>\n",
       "      <td>(2006)</td>\n",
       "      <td>8.9</td>\n",
       "      <td>https://www.imdb.com/title/tt0877057/</td>\n",
       "    </tr>\n",
       "    <tr>\n",
       "      <th>32</th>\n",
       "      <td>Better Call Saul</td>\n",
       "      <td>(2015)</td>\n",
       "      <td>8.9</td>\n",
       "      <td>https://www.imdb.com/title/tt3032476/</td>\n",
       "    </tr>\n",
       "    <tr>\n",
       "      <th>33</th>\n",
       "      <td>Clarkson's Farm</td>\n",
       "      <td>(2021)</td>\n",
       "      <td>8.9</td>\n",
       "      <td>https://www.imdb.com/title/tt10541088/</td>\n",
       "    </tr>\n",
       "    <tr>\n",
       "      <th>34</th>\n",
       "      <td>Only Fools and Horses</td>\n",
       "      <td>(1981)</td>\n",
       "      <td>8.9</td>\n",
       "      <td>https://www.imdb.com/title/tt0081912/</td>\n",
       "    </tr>\n",
       "    <tr>\n",
       "      <th>35</th>\n",
       "      <td>The Civil War</td>\n",
       "      <td>(1990)</td>\n",
       "      <td>8.9</td>\n",
       "      <td>https://www.imdb.com/title/tt0098769/</td>\n",
       "    </tr>\n",
       "    <tr>\n",
       "      <th>36</th>\n",
       "      <td>Hunter x Hunter</td>\n",
       "      <td>(2011)</td>\n",
       "      <td>8.9</td>\n",
       "      <td>https://www.imdb.com/title/tt2098220/</td>\n",
       "    </tr>\n",
       "    <tr>\n",
       "      <th>37</th>\n",
       "      <td>True Detective</td>\n",
       "      <td>(2014)</td>\n",
       "      <td>8.9</td>\n",
       "      <td>https://www.imdb.com/title/tt2356777/</td>\n",
       "    </tr>\n",
       "    <tr>\n",
       "      <th>38</th>\n",
       "      <td>Seinfeld</td>\n",
       "      <td>(1989)</td>\n",
       "      <td>8.9</td>\n",
       "      <td>https://www.imdb.com/title/tt0098904/</td>\n",
       "    </tr>\n",
       "    <tr>\n",
       "      <th>39</th>\n",
       "      <td>Dekalog</td>\n",
       "      <td>(1989)</td>\n",
       "      <td>8.9</td>\n",
       "      <td>https://www.imdb.com/title/tt0092337/</td>\n",
       "    </tr>\n",
       "    <tr>\n",
       "      <th>40</th>\n",
       "      <td>Persona</td>\n",
       "      <td>(2018)</td>\n",
       "      <td>8.9</td>\n",
       "      <td>https://www.imdb.com/title/tt7920978/</td>\n",
       "    </tr>\n",
       "    <tr>\n",
       "      <th>41</th>\n",
       "      <td>The Beatles: Get Back</td>\n",
       "      <td>(2021)</td>\n",
       "      <td>8.9</td>\n",
       "      <td>https://www.imdb.com/title/tt9735318/</td>\n",
       "    </tr>\n",
       "    <tr>\n",
       "      <th>42</th>\n",
       "      <td>Fargo</td>\n",
       "      <td>(2014)</td>\n",
       "      <td>8.9</td>\n",
       "      <td>https://www.imdb.com/title/tt2802850/</td>\n",
       "    </tr>\n",
       "    <tr>\n",
       "      <th>43</th>\n",
       "      <td>Cowboy Bebop</td>\n",
       "      <td>(1998)</td>\n",
       "      <td>8.8</td>\n",
       "      <td>https://www.imdb.com/title/tt0213338/</td>\n",
       "    </tr>\n",
       "    <tr>\n",
       "      <th>44</th>\n",
       "      <td>Nathan for You</td>\n",
       "      <td>(2013)</td>\n",
       "      <td>8.8</td>\n",
       "      <td>https://www.imdb.com/title/tt2297757/</td>\n",
       "    </tr>\n",
       "    <tr>\n",
       "      <th>45</th>\n",
       "      <td>Gravity Falls</td>\n",
       "      <td>(2012)</td>\n",
       "      <td>8.8</td>\n",
       "      <td>https://www.imdb.com/title/tt1865718/</td>\n",
       "    </tr>\n",
       "    <tr>\n",
       "      <th>46</th>\n",
       "      <td>When They See Us</td>\n",
       "      <td>(2019)</td>\n",
       "      <td>8.8</td>\n",
       "      <td>https://www.imdb.com/title/tt7137906/</td>\n",
       "    </tr>\n",
       "    <tr>\n",
       "      <th>47</th>\n",
       "      <td>Last Week Tonight with John Oliver</td>\n",
       "      <td>(2014)</td>\n",
       "      <td>8.8</td>\n",
       "      <td>https://www.imdb.com/title/tt3530232/</td>\n",
       "    </tr>\n",
       "    <tr>\n",
       "      <th>48</th>\n",
       "      <td>Friends</td>\n",
       "      <td>(1994)</td>\n",
       "      <td>8.8</td>\n",
       "      <td>https://www.imdb.com/title/tt0108778/</td>\n",
       "    </tr>\n",
       "    <tr>\n",
       "      <th>49</th>\n",
       "      <td>Apocalypse: The Second World War</td>\n",
       "      <td>(2009)</td>\n",
       "      <td>8.8</td>\n",
       "      <td>https://www.imdb.com/title/tt1508238/</td>\n",
       "    </tr>\n",
       "    <tr>\n",
       "      <th>50</th>\n",
       "      <td>Africa</td>\n",
       "      <td>(2013)</td>\n",
       "      <td>8.8</td>\n",
       "      <td>https://www.imdb.com/title/tt2571774/</td>\n",
       "    </tr>\n",
       "    <tr>\n",
       "      <th>51</th>\n",
       "      <td>TVF Pitchers</td>\n",
       "      <td>(2015)</td>\n",
       "      <td>8.8</td>\n",
       "      <td>https://www.imdb.com/title/tt4742876/</td>\n",
       "    </tr>\n",
       "    <tr>\n",
       "      <th>52</th>\n",
       "      <td>The Last of Us</td>\n",
       "      <td>(2023)</td>\n",
       "      <td>8.8</td>\n",
       "      <td>https://www.imdb.com/title/tt3581920/</td>\n",
       "    </tr>\n",
       "    <tr>\n",
       "      <th>53</th>\n",
       "      <td>It's Always Sunny in Philadelphia</td>\n",
       "      <td>(2005)</td>\n",
       "      <td>8.8</td>\n",
       "      <td>https://www.imdb.com/title/tt0472954/</td>\n",
       "    </tr>\n",
       "    <tr>\n",
       "      <th>54</th>\n",
       "      <td>Monty Python's Flying Circus</td>\n",
       "      <td>(1969)</td>\n",
       "      <td>8.8</td>\n",
       "      <td>https://www.imdb.com/title/tt0063929/</td>\n",
       "    </tr>\n",
       "    <tr>\n",
       "      <th>55</th>\n",
       "      <td>Taskmaster</td>\n",
       "      <td>(2015)</td>\n",
       "      <td>8.8</td>\n",
       "      <td>https://www.imdb.com/title/tt4934214/</td>\n",
       "    </tr>\n",
       "    <tr>\n",
       "      <th>56</th>\n",
       "      <td>Das Boot</td>\n",
       "      <td>(1985)</td>\n",
       "      <td>8.8</td>\n",
       "      <td>https://www.imdb.com/title/tt0081834/</td>\n",
       "    </tr>\n",
       "    <tr>\n",
       "      <th>57</th>\n",
       "      <td>As If</td>\n",
       "      <td>(2021)</td>\n",
       "      <td>8.8</td>\n",
       "      <td>https://www.imdb.com/title/tt13675832/</td>\n",
       "    </tr>\n",
       "    <tr>\n",
       "      <th>58</th>\n",
       "      <td>The West Wing</td>\n",
       "      <td>(1999)</td>\n",
       "      <td>8.8</td>\n",
       "      <td>https://www.imdb.com/title/tt0200276/</td>\n",
       "    </tr>\n",
       "    <tr>\n",
       "      <th>59</th>\n",
       "      <td>Curb Your Enthusiasm</td>\n",
       "      <td>(2000)</td>\n",
       "      <td>8.8</td>\n",
       "      <td>https://www.imdb.com/title/tt0264235/</td>\n",
       "    </tr>\n",
       "  </tbody>\n",
       "</table>\n",
       "</div>"
      ],
      "text/plain": [
       "                             Show_Name Released_Date  Imdb_Rating  \\\n",
       "0                      Planet Earth II        (2016)          9.4   \n",
       "1                         Breaking Bad        (2008)          9.4   \n",
       "2                         Planet Earth        (2006)          9.4   \n",
       "3                     Band of Brothers        (2001)          9.4   \n",
       "4                            Chernobyl        (2019)          9.3   \n",
       "5                             The Wire        (2002)          9.3   \n",
       "6           Avatar: The Last Airbender        (2005)          9.2   \n",
       "7                       Blue Planet II        (2017)          9.2   \n",
       "8                         The Sopranos        (1999)          9.2   \n",
       "9          Cosmos: A Spacetime Odyssey        (2014)          9.2   \n",
       "10                              Cosmos        (1980)          9.2   \n",
       "11                          Our Planet        (2019)          9.2   \n",
       "12                     Game of Thrones        (2011)          9.1   \n",
       "13                    The World at War        (1973)          9.1   \n",
       "14                      Rick and Morty        (2013)          9.1   \n",
       "15    Fullmetal Alchemist: Brotherhood        (2009)          9.0   \n",
       "16                      The Last Dance        (2020)          9.0   \n",
       "17                                Life        (2009)          9.0   \n",
       "18                   The Twilight Zone        (1959)          9.0   \n",
       "19                            Sherlock        (2010)          9.0   \n",
       "20                     The Vietnam War        (2017)          9.0   \n",
       "21                               Bluey        (2018)          9.0   \n",
       "22         Batman: The Animated Series        (1992)          9.0   \n",
       "23  Scam 1992: The Harshad Mehta Story        (2020)          8.9   \n",
       "24                     Attack on Titan        (2013)          8.9   \n",
       "25                              Arcane        (2021)          8.9   \n",
       "26                     The Blue Planet        (2001)          8.9   \n",
       "27                          The Office        (2005)          8.9   \n",
       "28                        Human Planet        (2011)          8.9   \n",
       "29                             Firefly        (2002)          8.9   \n",
       "30                       Frozen Planet        (2011)          8.9   \n",
       "31                          Death Note        (2006)          8.9   \n",
       "32                    Better Call Saul        (2015)          8.9   \n",
       "33                     Clarkson's Farm        (2021)          8.9   \n",
       "34               Only Fools and Horses        (1981)          8.9   \n",
       "35                       The Civil War        (1990)          8.9   \n",
       "36                     Hunter x Hunter        (2011)          8.9   \n",
       "37                      True Detective        (2014)          8.9   \n",
       "38                            Seinfeld        (1989)          8.9   \n",
       "39                             Dekalog        (1989)          8.9   \n",
       "40                             Persona        (2018)          8.9   \n",
       "41               The Beatles: Get Back        (2021)          8.9   \n",
       "42                               Fargo        (2014)          8.9   \n",
       "43                        Cowboy Bebop        (1998)          8.8   \n",
       "44                      Nathan for You        (2013)          8.8   \n",
       "45                       Gravity Falls        (2012)          8.8   \n",
       "46                    When They See Us        (2019)          8.8   \n",
       "47  Last Week Tonight with John Oliver        (2014)          8.8   \n",
       "48                             Friends        (1994)          8.8   \n",
       "49    Apocalypse: The Second World War        (2009)          8.8   \n",
       "50                              Africa        (2013)          8.8   \n",
       "51                        TVF Pitchers        (2015)          8.8   \n",
       "52                      The Last of Us        (2023)          8.8   \n",
       "53   It's Always Sunny in Philadelphia        (2005)          8.8   \n",
       "54        Monty Python's Flying Circus        (1969)          8.8   \n",
       "55                          Taskmaster        (2015)          8.8   \n",
       "56                            Das Boot        (1985)          8.8   \n",
       "57                               As If        (2021)          8.8   \n",
       "58                       The West Wing        (1999)          8.8   \n",
       "59                Curb Your Enthusiasm        (2000)          8.8   \n",
       "\n",
       "                                 Show_URLs  \n",
       "0    https://www.imdb.com/title/tt5491994/  \n",
       "1    https://www.imdb.com/title/tt0903747/  \n",
       "2    https://www.imdb.com/title/tt0795176/  \n",
       "3    https://www.imdb.com/title/tt0185906/  \n",
       "4    https://www.imdb.com/title/tt7366338/  \n",
       "5    https://www.imdb.com/title/tt0306414/  \n",
       "6    https://www.imdb.com/title/tt0417299/  \n",
       "7    https://www.imdb.com/title/tt6769208/  \n",
       "8    https://www.imdb.com/title/tt0141842/  \n",
       "9    https://www.imdb.com/title/tt2395695/  \n",
       "10   https://www.imdb.com/title/tt0081846/  \n",
       "11   https://www.imdb.com/title/tt9253866/  \n",
       "12   https://www.imdb.com/title/tt0944947/  \n",
       "13   https://www.imdb.com/title/tt0071075/  \n",
       "14   https://www.imdb.com/title/tt2861424/  \n",
       "15   https://www.imdb.com/title/tt1355642/  \n",
       "16   https://www.imdb.com/title/tt8420184/  \n",
       "17   https://www.imdb.com/title/tt1533395/  \n",
       "18   https://www.imdb.com/title/tt0052520/  \n",
       "19   https://www.imdb.com/title/tt1475582/  \n",
       "20   https://www.imdb.com/title/tt1877514/  \n",
       "21   https://www.imdb.com/title/tt7678620/  \n",
       "22   https://www.imdb.com/title/tt0103359/  \n",
       "23  https://www.imdb.com/title/tt12392504/  \n",
       "24   https://www.imdb.com/title/tt2560140/  \n",
       "25  https://www.imdb.com/title/tt11126994/  \n",
       "26   https://www.imdb.com/title/tt0296310/  \n",
       "27   https://www.imdb.com/title/tt0386676/  \n",
       "28   https://www.imdb.com/title/tt1806234/  \n",
       "29   https://www.imdb.com/title/tt0303461/  \n",
       "30   https://www.imdb.com/title/tt2092588/  \n",
       "31   https://www.imdb.com/title/tt0877057/  \n",
       "32   https://www.imdb.com/title/tt3032476/  \n",
       "33  https://www.imdb.com/title/tt10541088/  \n",
       "34   https://www.imdb.com/title/tt0081912/  \n",
       "35   https://www.imdb.com/title/tt0098769/  \n",
       "36   https://www.imdb.com/title/tt2098220/  \n",
       "37   https://www.imdb.com/title/tt2356777/  \n",
       "38   https://www.imdb.com/title/tt0098904/  \n",
       "39   https://www.imdb.com/title/tt0092337/  \n",
       "40   https://www.imdb.com/title/tt7920978/  \n",
       "41   https://www.imdb.com/title/tt9735318/  \n",
       "42   https://www.imdb.com/title/tt2802850/  \n",
       "43   https://www.imdb.com/title/tt0213338/  \n",
       "44   https://www.imdb.com/title/tt2297757/  \n",
       "45   https://www.imdb.com/title/tt1865718/  \n",
       "46   https://www.imdb.com/title/tt7137906/  \n",
       "47   https://www.imdb.com/title/tt3530232/  \n",
       "48   https://www.imdb.com/title/tt0108778/  \n",
       "49   https://www.imdb.com/title/tt1508238/  \n",
       "50   https://www.imdb.com/title/tt2571774/  \n",
       "51   https://www.imdb.com/title/tt4742876/  \n",
       "52   https://www.imdb.com/title/tt3581920/  \n",
       "53   https://www.imdb.com/title/tt0472954/  \n",
       "54   https://www.imdb.com/title/tt0063929/  \n",
       "55   https://www.imdb.com/title/tt4934214/  \n",
       "56   https://www.imdb.com/title/tt0081834/  \n",
       "57  https://www.imdb.com/title/tt13675832/  \n",
       "58   https://www.imdb.com/title/tt0200276/  \n",
       "59   https://www.imdb.com/title/tt0264235/  "
      ]
     },
     "execution_count": 62,
     "metadata": {},
     "output_type": "execute_result"
    }
   ],
   "source": [
    "top_tvshows_df"
   ]
  },
  {
   "cell_type": "code",
   "execution_count": 63,
   "metadata": {
    "scrolled": true
   },
   "outputs": [
    {
     "data": {
      "application/javascript": [
       "window.require && require([\"base/js/namespace\"],function(Jupyter){Jupyter.notebook.save_checkpoint()})"
      ],
      "text/plain": [
       "<IPython.core.display.Javascript object>"
      ]
     },
     "metadata": {},
     "output_type": "display_data"
    },
    {
     "name": "stdout",
     "output_type": "stream",
     "text": [
      "[jovian] Updating notebook \"ankitkumar22may/web-scraping-project\" on https://jovian.com\u001b[0m\n",
      "[jovian] Committed successfully! https://jovian.com/ankitkumar22may/web-scraping-project\u001b[0m\n"
     ]
    },
    {
     "data": {
      "text/plain": [
       "'https://jovian.com/ankitkumar22may/web-scraping-project'"
      ]
     },
     "execution_count": 63,
     "metadata": {},
     "output_type": "execute_result"
    }
   ],
   "source": [
    "jovian.commit()"
   ]
  },
  {
   "cell_type": "markdown",
   "metadata": {},
   "source": [
    "# Summary"
   ]
  },
  {
   "cell_type": "markdown",
   "metadata": {},
   "source": [
    "Here is what we covered in this notebook:"
   ]
  },
  {
   "cell_type": "markdown",
   "metadata": {},
   "source": [
    "1. Download the webpage using `requests`\n",
    "2. Parse the HTML source code using `beautiful soup`\n",
    "3. Extract Show Name, Released Date, IMDB Ratings and Shows URLs from webpage\n",
    "4. Compile extracted information using Python lists and dictionaries\n",
    "5. Save the extracted information to a CSV file."
   ]
  },
  {
   "cell_type": "markdown",
   "metadata": {},
   "source": [
    "The CSV file which will be created will have the following format:"
   ]
  },
  {
   "cell_type": "markdown",
   "metadata": {},
   "source": [
    "`Show_Name,Released_Date,Imdb_Rating,Show_URLs\n",
    "The Last of Us,(2023),9.3,['https://www.imdb.com/title/tt0141842/']\n",
    "Velma,(2023),1.3\n",
    "........`"
   ]
  },
  {
   "cell_type": "markdown",
   "metadata": {},
   "source": [
    "# Future Work"
   ]
  },
  {
   "cell_type": "markdown",
   "metadata": {},
   "source": [
    "• We can fetch the details about the Movies and Actor/Actress who won oscars in each year.  \n",
    "• We can fetch the IMDb Top movies as rated by regular IMDb voters.  "
   ]
  },
  {
   "cell_type": "markdown",
   "metadata": {},
   "source": [
    "# References"
   ]
  },
  {
   "cell_type": "markdown",
   "metadata": {},
   "source": [
    "1. https://requests.readthedocs.io/en/latest/\n",
    "2. https://www.crummy.com/software/BeautifulSoup/bs4/doc/\n",
    "3. https://www.imdb.com/\n",
    "4. https://stackoverflow.com/questions/2136267/beautiful-soup-and-extracting-a-div-and-its-contents-by-id"
   ]
  },
  {
   "cell_type": "code",
   "execution_count": 64,
   "metadata": {},
   "outputs": [
    {
     "data": {
      "application/javascript": [
       "window.require && require([\"base/js/namespace\"],function(Jupyter){Jupyter.notebook.save_checkpoint()})"
      ],
      "text/plain": [
       "<IPython.core.display.Javascript object>"
      ]
     },
     "metadata": {},
     "output_type": "display_data"
    },
    {
     "name": "stdout",
     "output_type": "stream",
     "text": [
      "[jovian] Updating notebook \"ankitkumar22may/web-scraping-project\" on https://jovian.com\u001b[0m\n",
      "[jovian] Committed successfully! https://jovian.com/ankitkumar22may/web-scraping-project\u001b[0m\n"
     ]
    },
    {
     "data": {
      "text/plain": [
       "'https://jovian.com/ankitkumar22may/web-scraping-project'"
      ]
     },
     "execution_count": 64,
     "metadata": {},
     "output_type": "execute_result"
    }
   ],
   "source": [
    "jovian.commit()"
   ]
  }
 ],
 "metadata": {
  "kernelspec": {
   "display_name": "Python 3 (ipykernel)",
   "language": "python",
   "name": "python3"
  },
  "language_info": {
   "codemirror_mode": {
    "name": "ipython",
    "version": 3
   },
   "file_extension": ".py",
   "mimetype": "text/x-python",
   "name": "python",
   "nbconvert_exporter": "python",
   "pygments_lexer": "ipython3",
   "version": "3.9.7"
  }
 },
 "nbformat": 4,
 "nbformat_minor": 2
}
